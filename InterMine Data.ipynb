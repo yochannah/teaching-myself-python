{
 "cells": [
  {
   "cell_type": "markdown",
   "metadata": {},
   "source": [
    "**test**"
   ]
  },
  {
   "cell_type": "code",
   "execution_count": 1,
   "metadata": {},
   "outputs": [],
   "source": [
    "import plotly.plotly as plot\n",
    "import plotly.graph_objs as go\n",
    "import pandas as pd"
   ]
  },
  {
   "cell_type": "markdown",
   "metadata": {},
   "source": [
    "Let's load some expression data from InterMine"
   ]
  },
  {
   "cell_type": "code",
   "execution_count": 2,
   "metadata": {},
   "outputs": [
    {
     "data": {
      "text/plain": [
       "<intermine.query.Query at 0x1110d1da0>"
      ]
     },
     "execution_count": 2,
     "metadata": {},
     "output_type": "execute_result"
    }
   ],
   "source": [
    "from intermine.webservice import Service\n",
    "service = Service(\"http://www.humanmine.org/humanmine/service\")\n",
    "\n",
    "query = service.new_query(\"AtlasExpression\")\n",
    "query.add_view(\n",
    "    \"condition\", \"expression\", \"pValue\", \"tStatistic\", \"dataSets.name\"\n",
    ")"
   ]
  },
  {
   "cell_type": "markdown",
   "metadata": {},
   "source": [
    "Give the query constraints"
   ]
  },
  {
   "cell_type": "code",
   "execution_count": 3,
   "metadata": {},
   "outputs": [
    {
     "data": {
      "text/plain": [
       "<BinaryConstraint: AtlasExpression.gene.symbol = GATA1>"
      ]
     },
     "execution_count": 3,
     "metadata": {},
     "output_type": "execute_result"
    }
   ],
   "source": [
    "geneToQuery = \"GATA1\"\n",
    "\n",
    "query.add_constraint(\"pValue\", \"<=\", \"0.005\")\n",
    "query.add_constraint(\"gene.symbol\", \"=\", geneToQuery)"
   ]
  },
  {
   "cell_type": "markdown",
   "metadata": {},
   "source": [
    "This is good, but we can only iterate the data (like below). We need it in a dataframe for plotly. \n",
    "``` python\n",
    "for row in query.rows(start=0,size=10):\n",
    "    print (row[\"condition\"], row[\"gene.primaryIdentifier\"], row[\"gene.symbol\"], row[\"gene.name\"], \n",
    "        row[\"expression\"], row[\"pValue\"], row[\"tStatistic\"], row[\"dataSets.name\"])\n",
    "```"
   ]
  },
  {
   "cell_type": "markdown",
   "metadata": {},
   "source": [
    "Load iterator into data frame by popping it in a dict first (thanks nupur)"
   ]
  },
  {
   "cell_type": "code",
   "execution_count": 23,
   "metadata": {},
   "outputs": [
    {
     "data": {
      "text/plain": [
       "13"
      ]
     },
     "execution_count": 23,
     "metadata": {},
     "output_type": "execute_result"
    }
   ],
   "source": [
    "#Get data in the right shape\n",
    "upRegulated = {}\n",
    "downRegulated = {}\n",
    "for row in query.rows(start=0,size=30):\n",
    "    rowDict = row.to_d()\n",
    "    if (row[\"expression\"] == \"UP\"):\n",
    "        upRegulated.update({row[\"condition\"] : rowDict})\n",
    "    else:\n",
    "        downRegulated.update({row[\"condition\"] : rowDict})\n",
    "\n",
    "\n",
    "#Now pop it into the data frame\n",
    "dfUp = pd.DataFrame(data=upRegulated)\n",
    "dfDown = pd.DataFrame(data=downRegulated)\n",
    "\n",
    "#The columns were the wrong way around\n",
    "dfUp = dfUp.transpose()\n",
    "dfDown = dfDown.transpose()\n",
    "\n",
    "len(dfUp)\n",
    "len(dfDown)"
   ]
  },
  {
   "cell_type": "markdown",
   "metadata": {},
   "source": [
    "Now, let's use plotly to make a graph"
   ]
  },
  {
   "cell_type": "code",
   "execution_count": 60,
   "metadata": {},
   "outputs": [
    {
     "data": {
      "text/html": [
       "<iframe id=\"igraph\" scrolling=\"no\" style=\"border:none;\" seamless=\"seamless\" src=\"https://plot.ly/~yoyehudi/1.embed\" height=\"525px\" width=\"100%\"></iframe>"
      ],
      "text/plain": [
       "<plotly.tools.PlotlyDisplay object>"
      ]
     },
     "execution_count": 60,
     "metadata": {},
     "output_type": "execute_result"
    }
   ],
   "source": [
    "#We need to define the up and down expression separately if we want to colour them separately\n",
    "up = go.Bar(y=dfUp[\"AtlasExpression.condition\"],\n",
    "            x=dfUp[\"AtlasExpression.tStatistic\"],\n",
    "            name = \"Upregulated\",\n",
    "            orientation = \"h\")\n",
    "\n",
    "down = go.Bar(y=dfDown[\"AtlasExpression.condition\"],\n",
    "              x=dfDown[\"AtlasExpression.tStatistic\"],\n",
    "              name= \"Downregulated\",\n",
    "              orientation = \"h\")\n",
    "\n",
    "layout = go.Layout(\n",
    "    title = \"AtlasExpression data for \" + geneToQuery,\n",
    "    #dtick is important to make sure no labels get hidden\n",
    "    #showgrid gives us the lines so we can match label to bar\n",
    "    yaxis = dict(dtick = 1,\n",
    "                 showgrid = True),\n",
    "    #Wide margin so the labels don't get too truncated.\n",
    "    margin = dict(l = 200))\n",
    "\n",
    "fig = go.Figure(data = [up, down], layout=layout)\n",
    "\n",
    "#Render the plot! Note for this to work on your local machine,\n",
    "# You'll need a token set up as per https://plot.ly/python/getting-started/ \n",
    "plot.iplot(fig, filename='basic_bar')"
   ]
  }
 ],
 "metadata": {
  "kernelspec": {
   "display_name": "Python 3",
   "language": "python",
   "name": "python3"
  },
  "language_info": {
   "codemirror_mode": {
    "name": "ipython",
    "version": 3
   },
   "file_extension": ".py",
   "mimetype": "text/x-python",
   "name": "python",
   "nbconvert_exporter": "python",
   "pygments_lexer": "ipython3",
   "version": "3.6.4"
  }
 },
 "nbformat": 4,
 "nbformat_minor": 2
}
