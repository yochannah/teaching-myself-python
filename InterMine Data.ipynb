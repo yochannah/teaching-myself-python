{
 "cells": [
  {
   "cell_type": "markdown",
   "metadata": {},
   "source": [
    "**test**"
   ]
  },
  {
   "cell_type": "code",
   "execution_count": 1,
   "metadata": {},
   "outputs": [],
   "source": [
    "import plotly.plotly as plot\n",
    "import pandas as pd"
   ]
  },
  {
   "cell_type": "markdown",
   "metadata": {},
   "source": [
    "Let's load some expression data from InterMine"
   ]
  },
  {
   "cell_type": "code",
   "execution_count": 51,
   "metadata": {},
   "outputs": [
    {
     "data": {
      "text/plain": [
       "<intermine.query.Query at 0x10f195828>"
      ]
     },
     "execution_count": 51,
     "metadata": {},
     "output_type": "execute_result"
    }
   ],
   "source": [
    "from intermine.webservice import Service\n",
    "service = Service(\"http://www.humanmine.org/humanmine/service\")\n",
    "\n",
    "query = service.new_query(\"AtlasExpression\")\n",
    "query.add_view(\n",
    "    \"condition\", \"expression\", \"pValue\", \"tStatistic\", \"dataSets.name\"\n",
    ")"
   ]
  },
  {
   "cell_type": "markdown",
   "metadata": {},
   "source": [
    "Give the query constraints"
   ]
  },
  {
   "cell_type": "code",
   "execution_count": 56,
   "metadata": {},
   "outputs": [
    {
     "data": {
      "text/plain": [
       "<BinaryConstraint: AtlasExpression.gene.symbol = GATA1>"
      ]
     },
     "execution_count": 56,
     "metadata": {},
     "output_type": "execute_result"
    }
   ],
   "source": [
    "query.add_constraint(\"pValue\", \"<=\", \"0.005\")\n",
    "query.add_constraint(\"gene.symbol\", \"=\", \"GATA1\")"
   ]
  },
  {
   "cell_type": "markdown",
   "metadata": {},
   "source": [
    "This is good, but we can only iterate the data (like below). We need it in a dataframe for plotly. \n",
    "``` python\n",
    "for row in query.rows(start=0,size=10):\n",
    "    print (row[\"condition\"], row[\"gene.primaryIdentifier\"], row[\"gene.symbol\"], row[\"gene.name\"], \n",
    "        row[\"expression\"], row[\"pValue\"], row[\"tStatistic\"], row[\"dataSets.name\"])\n",
    "```"
   ]
  },
  {
   "cell_type": "markdown",
   "metadata": {},
   "source": [
    "Load iterator into data frame by popping it in a dict first (thanks nupur)"
   ]
  },
  {
   "cell_type": "code",
   "execution_count": 57,
   "metadata": {},
   "outputs": [],
   "source": [
    "#Get data in the right shape\n",
    "dict = {}\n",
    "for row in query.rows(start=0,size=30):\n",
    "    rowDict = row.to_d()\n",
    "    dict.update({row[\"condition\"] : rowDict})\n",
    "\n",
    "#Now pop it into the data frame\n",
    "df = pd.DataFrame(data=dict)\n",
    "\n",
    "#The columns were the wrong way around\n",
    "df = df.transpose()"
   ]
  },
  {
   "cell_type": "markdown",
   "metadata": {},
   "source": [
    "Now, let's use plotly to make a graph"
   ]
  },
  {
   "cell_type": "code",
   "execution_count": 54,
   "metadata": {},
   "outputs": [
    {
     "data": {
      "text/html": [
       "<iframe id=\"igraph\" scrolling=\"no\" style=\"border:none;\" seamless=\"seamless\" src=\"https://plot.ly/~yoyehudi/1.embed\" height=\"525px\" width=\"100%\"></iframe>"
      ],
      "text/plain": [
       "<plotly.tools.PlotlyDisplay object>"
      ]
     },
     "execution_count": 54,
     "metadata": {},
     "output_type": "execute_result"
    }
   ],
   "source": [
    "from plotly.graph_objs import *\n",
    "\n",
    "data = [Bar(x=df[\"AtlasExpression.condition\"],\n",
    "            y=df[\"AtlasExpression.tStatistic\"])]\n",
    "\n",
    "plot.iplot(data, filename='basic_bar')"
   ]
  },
  {
   "cell_type": "code",
   "execution_count": null,
   "metadata": {},
   "outputs": [],
   "source": []
  },
  {
   "cell_type": "code",
   "execution_count": null,
   "metadata": {},
   "outputs": [],
   "source": []
  }
 ],
 "metadata": {
  "kernelspec": {
   "display_name": "Python 3",
   "language": "python",
   "name": "python3"
  },
  "language_info": {
   "codemirror_mode": {
    "name": "ipython",
    "version": 3
   },
   "file_extension": ".py",
   "mimetype": "text/x-python",
   "name": "python",
   "nbconvert_exporter": "python",
   "pygments_lexer": "ipython3",
   "version": "3.6.4"
  }
 },
 "nbformat": 4,
 "nbformat_minor": 2
}
